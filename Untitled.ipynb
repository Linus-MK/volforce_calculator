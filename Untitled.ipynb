{
 "cells": [
  {
   "cell_type": "code",
   "execution_count": 1,
   "metadata": {},
   "outputs": [],
   "source": [
    "import numpy as np\n",
    "# import matplotlib\n",
    "import matplotlib.pyplot as plt"
   ]
  },
  {
   "cell_type": "code",
   "execution_count": 2,
   "metadata": {},
   "outputs": [],
   "source": [
    "def grade_coef(score):\n",
    "    # 9000000以上であることを仮定\n",
    "    if score < 9300000:\n",
    "        return 0.91\n",
    "    elif score < 9500000:\n",
    "        return 0.94\n",
    "    elif score < 9700000:\n",
    "        return 0.97\n",
    "    elif score < 9800000:\n",
    "        return 1.00\n",
    "    elif score < 9900000:\n",
    "        return 1.02\n",
    "    else:\n",
    "        return 1.05"
   ]
  },
  {
   "cell_type": "code",
   "execution_count": 3,
   "metadata": {},
   "outputs": [],
   "source": [
    "def clear_type_coef(string):\n",
    "    if string == \"clear\":\n",
    "        return 1.00\n",
    "    elif string == \"excessive\":\n",
    "        return 1.02\n",
    "    else:\n",
    "        return None\n",
    "# 他はまだ実装しなくていいや。"
   ]
  },
  {
   "cell_type": "code",
   "execution_count": 4,
   "metadata": {},
   "outputs": [],
   "source": [
    "scores = np.array(range(9300000,9800000,1000))\n",
    "\n",
    "coef = map(grade_coef, scores)\n",
    "coef = list(coef) #list(coef)は複数回実行できない？"
   ]
  },
  {
   "cell_type": "code",
   "execution_count": 5,
   "metadata": {},
   "outputs": [
    {
     "data": {
      "image/png": "[encoded data removed]",
      "text/plain": [
       "<Figure size 432x288 with 1 Axes>"
      ]
     },
     "metadata": {
      "needs_background": "light"
     },
     "output_type": "display_data"
    }
   ],
   "source": [
    "# 2度目の実行だとエラーが出るのは何で？\n",
    "\n",
    "# (暫定)(レベル×2)×(スコア÷1000万)×(GRADE係数)×(クリアメダル係数)\n",
    "lv = 17\n",
    "clear_medal_CLEAR = 1.00\n",
    "plt.plot(scores, lv * 2 * (scores / 10000000) * (coef) * clear_medal_CLEAR)\n",
    "plt.plot(scores, lv * 2 * (scores / 10000000) * (coef) * 1.02)\n",
    "\n",
    "plt.grid()\n",
    "plt.savefig(\"temp.png\")"
   ]
  },
  {
   "cell_type": "code",
   "execution_count": null,
   "metadata": {},
   "outputs": [],
   "source": []
  },
  {
   "cell_type": "code",
   "execution_count": 6,
   "metadata": {},
   "outputs": [],
   "source": [
    "# lv 16 hard\n",
    "import math\n",
    "\n",
    "clear_medal_EXCESSIVE = 1.02\n",
    "lv = 16\n",
    "\n",
    "def calc_volforce(lv, clear_type):\n",
    "    print(\"**Lv {}, {}**\".format(lv, clear_type))\n",
    "    prev = -1\n",
    "    clear_type\n",
    "    for score in range(9300000,9900000+1,1000):\n",
    "        now = math.floor(lv * 2 * (score / 10000000) * (grade_coef(score)) * clear_type_coef(clear_type))\n",
    "        if prev != now and prev >= 0:\n",
    "            print(\"{} points : score {}\".format(now, score))\n",
    "        prev = now\n",
    "    print(\"\")"
   ]
  },
  {
   "cell_type": "code",
   "execution_count": 7,
   "metadata": {},
   "outputs": [
    {
     "name": "stdout",
     "output_type": "stream",
     "text": [
      "**Lv 16, clear**\n",
      "28 points : score 9309000\n",
      "29 points : score 9500000\n",
      "30 points : score 9665000\n",
      "31 points : score 9700000\n",
      "32 points : score 9804000\n",
      "33 points : score 9900000\n",
      "\n",
      "**Lv 16, excessive**\n",
      "29 points : score 9452000\n",
      "30 points : score 9500000\n",
      "31 points : score 9700000\n",
      "32 points : score 9800000\n",
      "33 points : score 9900000\n",
      "\n",
      "**Lv 17, clear**\n",
      "30 points : score 9387000\n",
      "31 points : score 9500000\n",
      "32 points : score 9700000\n",
      "33 points : score 9706000\n",
      "34 points : score 9804000\n",
      "35 points : score 9900000\n",
      "\n",
      "**Lv 17, excessive**\n",
      "31 points : score 9500000\n",
      "32 points : score 9513000\n",
      "33 points : score 9700000\n",
      "34 points : score 9800000\n",
      "35 points : score 9895000\n",
      "36 points : score 9900000\n",
      "\n",
      "**Lv 18, clear**\n",
      "32 points : score 9457000\n",
      "33 points : score 9500000\n",
      "34 points : score 9700000\n",
      "35 points : score 9723000\n",
      "36 points : score 9804000\n",
      "37 points : score 9900000\n",
      "\n",
      "**Lv 18, excessive**\n",
      "33 points : score 9500000\n",
      "34 points : score 9546000\n",
      "35 points : score 9700000\n",
      "36 points : score 9800000\n",
      "37 points : score 9879000\n",
      "38 points : score 9900000\n",
      "\n"
     ]
    }
   ],
   "source": [
    "calc_volforce(16, \"clear\")\n",
    "calc_volforce(16, \"excessive\")\n",
    "calc_volforce(17, \"clear\")\n",
    "calc_volforce(17, \"excessive\")\n",
    "calc_volforce(18, \"clear\")\n",
    "calc_volforce(18, \"excessive\")"
   ]
  },
  {
   "cell_type": "markdown",
   "metadata": {},
   "source": [
    "旧レベル基準  \n",
    "15/16 AAA(980万程度)  \n",
    "https://pbs.twimg.com/media/CwKTODeW8AAKhtN.jpg  \n",
    "15/16 990万  \n",
    "https://pbs.twimg.com/media/CwKTOmIWAAAX0Az.jpg\n",
    "\n",
    "新レベル基準  \n",
    "https://twitter.com/NOT_EL_WAI_ES/status/1072609069469442048  \n",
    "13~16 PUC難易度表  \n",
    "https://puu.sh/Cg9iR.png  \n",
    "17 S(990)難易度表  \n",
    "https://twitter.com/patchesarna/status/1157844624750202881"
   ]
  },
  {
   "cell_type": "code",
   "execution_count": null,
   "metadata": {},
   "outputs": [],
   "source": []
  }
 ],
 "metadata": {
  "kernelspec": {
   "display_name": "Python 3",
   "language": "python",
   "name": "python3"
  },
  "language_info": {
   "codemirror_mode": {
    "name": "ipython",
    "version": 3
   },
   "file_extension": ".py",
   "mimetype": "text/x-python",
   "name": "python",
   "nbconvert_exporter": "python",
   "pygments_lexer": "ipython3",
   "version": "3.7.4"
  }
 },
 "nbformat": 4,
 "nbformat_minor": 2
}
